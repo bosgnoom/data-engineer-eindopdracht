{
 "cells": [
  {
   "cell_type": "code",
   "execution_count": 10,
   "id": "b84c6807",
   "metadata": {},
   "outputs": [],
   "source": [
    "import pandas as pd\n",
    "import requests\n",
    "import sqlite3\n",
    "\n",
    "start_date = \"20190916\"\n",
    "end_date = \"20190917\"\n",
    "\n",
    "r = requests.get(\n",
    "    \"https://www.daggegevens.knmi.nl/klimatologie/uurgegevens\",\n",
    "    params={\n",
    "        \"start\": start_date,\n",
    "        \"end\": end_date,\n",
    "        \"vars\": \"ALL\",\n",
    "        \"stns\": 377,\n",
    "        \"fmt\": \"json\",\n",
    "    },\n",
    ")\n",
    "\n",
    "respons = pd.DataFrame.from_dict(r.json())\n",
    "\n",
    "conn = sqlite3.connect('KNMI.db')\n",
    "\n",
    "respons.to_sql('knmi', con=conn , if_exists='replace',\n",
    "           index_label='id')\n",
    "\n",
    "conn.commit()\n",
    "conn.close()\n"
   ]
  },
  {
   "cell_type": "code",
   "execution_count": null,
   "id": "391c71bb",
   "metadata": {},
   "outputs": [],
   "source": []
  }
 ],
 "metadata": {
  "kernelspec": {
   "display_name": "Python 3 (ipykernel)",
   "language": "python",
   "name": "python3"
  },
  "language_info": {
   "codemirror_mode": {
    "name": "ipython",
    "version": 3
   },
   "file_extension": ".py",
   "mimetype": "text/x-python",
   "name": "python",
   "nbconvert_exporter": "python",
   "pygments_lexer": "ipython3",
   "version": "3.10.2"
  }
 },
 "nbformat": 4,
 "nbformat_minor": 5
}
